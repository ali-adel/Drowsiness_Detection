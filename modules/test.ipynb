{
 "cells": [
  {
   "cell_type": "code",
   "execution_count": 17,
   "metadata": {},
   "outputs": [],
   "source": [
    "from fastapi import FastAPI, File, UploadFile, Request\n",
    "from fastapi.responses import HTMLResponse, FileResponse, StreamingResponse\n",
    "from fastapi.templating import Jinja2Templates\n",
    "from fastapi.staticfiles import StaticFiles\n",
    "from PIL import Image\n",
    "import numpy as np\n",
    "import io\n",
    "import os\n",
    "import time\n",
    "from pathlib import Path\n",
    "import tensorrt as trt\n",
    "import pycuda.driver as cuda\n",
    "import pycuda.autoinit\n",
    "import cv2\n",
    "from ultralytics import YOLO\n"
   ]
  },
  {
   "cell_type": "code",
   "execution_count": 3,
   "metadata": {},
   "outputs": [
    {
     "name": "stdout",
     "output_type": "stream",
     "text": [
      "WARNING ⚠️ TensorRT requires GPU export, automatically assigning device=0\n",
      "Ultralytics YOLOv8.2.91 🚀 Python-3.12.5 torch-2.4.1+cu118 CUDA:0 (NVIDIA GeForce RTX 3050 Ti Laptop GPU, 4096MiB)\n",
      "Model summary (fused): 168 layers, 11,126,358 parameters, 0 gradients, 28.4 GFLOPs\n",
      "\n",
      "\u001b[34m\u001b[1mPyTorch:\u001b[0m starting from 'C:\\Users\\Legion\\Desktop\\drowsiness_detection_deployment\\models\\yolo_final.pt' with input shape (1, 3, 640, 640) BCHW and output shape(s) (1, 6, 8400) (21.5 MB)\n",
      "\u001b[31m\u001b[1mrequirements:\u001b[0m Ultralytics requirement ['onnx>=1.12.0'] not found, attempting AutoUpdate...\n",
      "Collecting onnx>=1.12.0\n",
      "\n",
      "  Downloading onnx-1.17.0-cp312-cp312-win_amd64.whl.metadata (16 kB)\n",
      "\n",
      "Requirement already satisfied: numpy>=1.20 in c:\\python312\\lib\\site-packages (from onnx>=1.12.0) (1.26.4)\n",
      "\n",
      "Requirement already satisfied: protobuf>=3.20.2 in c:\\python312\\lib\\site-packages (from onnx>=1.12.0) (4.25.4)\n",
      "\n",
      "Downloading onnx-1.17.0-cp312-cp312-win_amd64.whl (14.5 MB)\n",
      "\n",
      "   ---------------------------------------- 0.0/14.5 MB ? eta -:--:--\n",
      "   - -------------------------------------- 0.5/14.5 MB 3.4 MB/s eta 0:00:05\n",
      "   --- ------------------------------------ 1.3/14.5 MB 3.7 MB/s eta 0:00:04\n",
      "   ----- ---------------------------------- 2.1/14.5 MB 3.8 MB/s eta 0:00:04\n",
      "   ------- -------------------------------- 2.9/14.5 MB 3.8 MB/s eta 0:00:04\n",
      "   ---------- ----------------------------- 3.7/14.5 MB 3.8 MB/s eta 0:00:03\n",
      "   ------------ --------------------------- 4.5/14.5 MB 3.8 MB/s eta 0:00:03\n",
      "   -------------- ------------------------- 5.2/14.5 MB 3.8 MB/s eta 0:00:03\n",
      "   ---------------- ----------------------- 6.0/14.5 MB 3.8 MB/s eta 0:00:03\n",
      "   ------------------ --------------------- 6.8/14.5 MB 3.8 MB/s eta 0:00:03\n",
      "   -------------------- ------------------- 7.6/14.5 MB 3.8 MB/s eta 0:00:02\n",
      "   ----------------------- ---------------- 8.4/14.5 MB 3.8 MB/s eta 0:00:02\n",
      "   ------------------------- -------------- 9.2/14.5 MB 3.8 MB/s eta 0:00:02\n",
      "   --------------------------- ------------ 10.0/14.5 MB 3.8 MB/s eta 0:00:02\n",
      "   ----------------------------- ---------- 10.7/14.5 MB 3.8 MB/s eta 0:00:02\n",
      "   ------------------------------- -------- 11.5/14.5 MB 3.8 MB/s eta 0:00:01\n",
      "   --------------------------------- ------ 12.3/14.5 MB 3.7 MB/s eta 0:00:01\n",
      "   ------------------------------------ --- 13.1/14.5 MB 3.7 MB/s eta 0:00:01\n",
      "   ------------------------------------- -- 13.6/14.5 MB 3.7 MB/s eta 0:00:01\n",
      "   ---------------------------------------- 14.5/14.5 MB 3.7 MB/s eta 0:00:00\n",
      "\n",
      "Installing collected packages: onnx\n",
      "\n",
      "Successfully installed onnx-1.17.0\n",
      "\n",
      "\n",
      "\u001b[31m\u001b[1mrequirements:\u001b[0m AutoUpdate success ✅ 16.1s, installed 1 package: ['onnx>=1.12.0']\n",
      "\u001b[31m\u001b[1mrequirements:\u001b[0m ⚠️ \u001b[1mRestart runtime or rerun command for updates to take effect\u001b[0m\n",
      "\n",
      "\n",
      "\u001b[34m\u001b[1mONNX:\u001b[0m starting export with onnx 1.17.0 opset 19...\n",
      "\u001b[34m\u001b[1mONNX:\u001b[0m export success ✅ 17.5s, saved as 'C:\\Users\\Legion\\Desktop\\drowsiness_detection_deployment\\models\\yolo_final.onnx' (42.6 MB)\n",
      "\n",
      "\u001b[34m\u001b[1mTensorRT:\u001b[0m starting export with TensorRT 10.5.0...\n",
      "[10/04/2024-21:29:58] [TRT] [I] [MemUsageChange] Init CUDA: CPU +1, GPU +0, now: CPU 10004, GPU 997 (MiB)\n",
      "[10/04/2024-21:30:06] [TRT] [I] [MemUsageChange] Init builder kernel library: CPU +2697, GPU +394, now: CPU 13012, GPU 1391 (MiB)\n",
      "[10/04/2024-21:30:06] [TRT] [I] ----------------------------------------------------------------\n",
      "[10/04/2024-21:30:06] [TRT] [I] Input filename:   C:\\Users\\Legion\\Desktop\\drowsiness_detection_deployment\\models\\yolo_final.onnx\n",
      "[10/04/2024-21:30:06] [TRT] [I] ONNX IR version:  0.0.9\n",
      "[10/04/2024-21:30:06] [TRT] [I] Opset version:    19\n",
      "[10/04/2024-21:30:06] [TRT] [I] Producer name:    pytorch\n",
      "[10/04/2024-21:30:06] [TRT] [I] Producer version: 2.4.1\n",
      "[10/04/2024-21:30:06] [TRT] [I] Domain:           \n",
      "[10/04/2024-21:30:06] [TRT] [I] Model version:    0\n",
      "[10/04/2024-21:30:06] [TRT] [I] Doc string:       \n",
      "[10/04/2024-21:30:06] [TRT] [I] ----------------------------------------------------------------\n",
      "\u001b[34m\u001b[1mTensorRT:\u001b[0m input \"images\" with shape(1, 3, 640, 640) DataType.FLOAT\n",
      "\u001b[34m\u001b[1mTensorRT:\u001b[0m output \"output0\" with shape(1, 6, 8400) DataType.FLOAT\n",
      "\u001b[34m\u001b[1mTensorRT:\u001b[0m building FP32 engine as C:\\Users\\Legion\\Desktop\\drowsiness_detection_deployment\\models\\yolo_final.engine\n",
      "[10/04/2024-21:30:07] [TRT] [I] Local timing cache in use. Profiling results in this builder pass will not be stored.\n",
      "[10/04/2024-21:31:20] [TRT] [I] Detected 1 inputs and 3 output network tensors.\n",
      "[10/04/2024-21:31:21] [TRT] [I] Total Host Persistent Memory: 353648 bytes\n",
      "[10/04/2024-21:31:21] [TRT] [I] Total Device Persistent Memory: 653824 bytes\n",
      "[10/04/2024-21:31:21] [TRT] [I] Max Scratch Memory: 918016 bytes\n",
      "[10/04/2024-21:31:21] [TRT] [I] [BlockAssignment] Started assigning block shifts. This will take 186 steps to complete.\n",
      "[10/04/2024-21:31:21] [TRT] [I] [BlockAssignment] Algorithm ShiftNTopDown took 9.4089ms to assign 7 blocks to 186 nodes requiring 35226112 bytes.\n",
      "[10/04/2024-21:31:21] [TRT] [I] Total Activation Memory: 35225600 bytes\n",
      "[10/04/2024-21:31:21] [TRT] [I] Total Weights Memory: 54713348 bytes\n",
      "[10/04/2024-21:31:21] [TRT] [I] Engine generation completed in 74.0759 seconds.\n",
      "[10/04/2024-21:31:21] [TRT] [I] [MemUsageStats] Peak memory usage of TRT CPU/GPU memory allocators: CPU 6 MiB, GPU 134 MiB\n",
      "[10/04/2024-21:31:21] [TRT] [I] [MemUsageStats] Peak memory usage during Engine building and serialization: CPU: 4700 MiB\n",
      "\u001b[34m\u001b[1mTensorRT:\u001b[0m export success ✅ 101.5s, saved as 'C:\\Users\\Legion\\Desktop\\drowsiness_detection_deployment\\models\\yolo_final.engine' (56.5 MB)\n",
      "\n",
      "Export complete (102.6s)\n",
      "Results saved to \u001b[1mC:\\Users\\Legion\\Desktop\\drowsiness_detection_deployment\\models\u001b[0m\n",
      "Predict:         yolo predict task=detect model=C:\\Users\\Legion\\Desktop\\drowsiness_detection_deployment\\models\\yolo_final.engine imgsz=640  \n",
      "Validate:        yolo val task=detect model=C:\\Users\\Legion\\Desktop\\drowsiness_detection_deployment\\models\\yolo_final.engine imgsz=640 data=/kaggle/input/yaml-final/data.yaml  \n",
      "Visualize:       https://netron.app\n",
      "💡 Learn more at https://docs.ultralytics.com/modes/export\n"
     ]
    }
   ],
   "source": [
    "!yolo export model='C:/Users/Legion/Desktop/drowsiness_detection_deployment/models/yolo_final.pt' format=engine"
   ]
  },
  {
   "cell_type": "code",
   "execution_count": 19,
   "metadata": {},
   "outputs": [
    {
     "name": "stdout",
     "output_type": "stream",
     "text": [
      "WARNING  TensorRT requires GPU export, automatically assigning device=0\n",
      "Ultralytics YOLOv8.2.91  Python-3.12.5 torch-2.4.1+cu118 CUDA:0 (NVIDIA GeForce RTX 3050 Ti Laptop GPU, 4096MiB)\n",
      "Model summary (fused): 168 layers, 11,126,358 parameters, 0 gradients, 28.4 GFLOPs\n",
      "\n",
      "\u001b[34m\u001b[1mPyTorch:\u001b[0m starting from 'C:\\Users\\Legion\\Desktop\\drowsiness_detection_deployment\\models\\yolo_final.pt' with input shape (1, 3, 640, 640) BCHW and output shape(s) (1, 6, 8400) (21.5 MB)\n",
      "\n",
      "\u001b[34m\u001b[1mONNX:\u001b[0m starting export with onnx 1.17.0 opset 19...\n",
      "\u001b[34m\u001b[1mONNX:\u001b[0m export success  2.0s, saved as 'C:\\Users\\Legion\\Desktop\\drowsiness_detection_deployment\\models\\yolo_final.onnx' (42.6 MB)\n",
      "\n",
      "\u001b[34m\u001b[1mTensorRT:\u001b[0m starting export with TensorRT 10.5.0...\n",
      "\u001b[34m\u001b[1mTensorRT:\u001b[0m input \"images\" with shape(1, 3, 640, 640) DataType.FLOAT\n",
      "\u001b[34m\u001b[1mTensorRT:\u001b[0m output \"output0\" with shape(1, 6, 8400) DataType.FLOAT\n",
      "\u001b[34m\u001b[1mTensorRT:\u001b[0m building FP32 engine as C:\\Users\\Legion\\Desktop\\drowsiness_detection_deployment\\models\\yolo_final.engine\n",
      "\u001b[34m\u001b[1mTensorRT:\u001b[0m export success  84.6s, saved as 'C:\\Users\\Legion\\Desktop\\drowsiness_detection_deployment\\models\\yolo_final.engine' (61.4 MB)\n",
      "\n",
      "Export complete (86.9s)\n",
      "Results saved to \u001b[1mC:\\Users\\Legion\\Desktop\\drowsiness_detection_deployment\\models\u001b[0m\n",
      "Predict:         yolo predict task=detect model=C:\\Users\\Legion\\Desktop\\drowsiness_detection_deployment\\models\\yolo_final.engine imgsz=640  \n",
      "Validate:        yolo val task=detect model=C:\\Users\\Legion\\Desktop\\drowsiness_detection_deployment\\models\\yolo_final.engine imgsz=640 data=/kaggle/input/yaml-final/data.yaml  \n",
      "Visualize:       https://netron.app\n"
     ]
    },
    {
     "data": {
      "text/plain": [
       "'C:\\\\Users\\\\Legion\\\\Desktop\\\\drowsiness_detection_deployment\\\\models\\\\yolo_final.engine'"
      ]
     },
     "execution_count": 19,
     "metadata": {},
     "output_type": "execute_result"
    }
   ],
   "source": [
    "\n",
    "# Load the custom trained model\n",
    "model = YOLO(r\"C:\\Users\\Legion\\Desktop\\drowsiness_detection_deployment\\models\\yolo_final.pt\")\n",
    "\n",
    "# Export the model to TensorRT engine format\n",
    "model.export(format=\"engine\", save_dir=r\"C:\\Users\\Legion\\Desktop\\drowsiness_detection_deployment\\models\")"
   ]
  },
  {
   "cell_type": "code",
   "execution_count": 23,
   "metadata": {},
   "outputs": [
    {
     "name": "stdout",
     "output_type": "stream",
     "text": [
      "WARNING ⚠️ Unable to automatically guess model task, assuming 'task=detect'. Explicitly define task for your model, i.e. 'task=detect', 'segment', 'classify','pose' or 'obb'.\n",
      "Ultralytics YOLOv8.2.91 🚀 Python-3.12.5 torch-2.4.1+cu118 CUDA:0 (NVIDIA GeForce RTX 3050 Ti Laptop GPU, 4096MiB)\n",
      "Loading C:\\Users\\Legion\\Desktop\\drowsiness_detection_deployment\\models\\yolo_final.engine for TensorRT inference...\n",
      "[10/05/2024-00:09:44] [TRT] [I] Loaded engine size: 61 MiB\n",
      "[10/05/2024-00:09:44] [TRT] [I] [MemUsageChange] TensorRT-managed allocation in IExecutionContext creation: CPU +0, GPU +34, now: CPU 0, GPU 91 (MiB)\n",
      "\n",
      "image 1/1 C:\\Users\\Legion\\Desktop\\drowsiness_detection_deployment\\test.jpg: 640x640 1 Natural, 10.7ms\n",
      "Speed: 31.8ms preprocess, 10.7ms inference, 110.6ms postprocess per image at shape (1, 3, 640, 640)\n",
      "Results saved to \u001b[1mruns\\detect\\predict2\u001b[0m\n",
      "💡 Learn more at https://docs.ultralytics.com/modes/predict\n"
     ]
    }
   ],
   "source": [
    "!yolo predict model=C:/Users/Legion/Desktop/drowsiness_detection_deployment/models/yolo_final.engine source=C:/Users/Legion/Desktop/drowsiness_detection_deployment/test.jpg "
   ]
  },
  {
   "cell_type": "code",
   "execution_count": null,
   "metadata": {},
   "outputs": [],
   "source": []
  }
 ],
 "metadata": {
  "kernelspec": {
   "display_name": "Python 3",
   "language": "python",
   "name": "python3"
  },
  "language_info": {
   "codemirror_mode": {
    "name": "ipython",
    "version": 3
   },
   "file_extension": ".py",
   "mimetype": "text/x-python",
   "name": "python",
   "nbconvert_exporter": "python",
   "pygments_lexer": "ipython3",
   "version": "3.12.5"
  }
 },
 "nbformat": 4,
 "nbformat_minor": 2
}
